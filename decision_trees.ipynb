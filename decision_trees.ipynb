{
 "cells": [
  {
   "cell_type": "code",
   "execution_count": 17,
   "id": "6237c573",
   "metadata": {},
   "outputs": [],
   "source": [
    "import pandas as pd\n",
    "import numpy as np\n",
    "from sklearn.tree import DecisionTreeRegressor\n",
    "from sklearn.model_selection import KFold, cross_val_score, GridSearchCV\n",
    "from sklearn.metrics import mean_squared_error\n",
    "import time"
   ]
  },
  {
   "cell_type": "code",
   "execution_count": 16,
   "id": "41788db1",
   "metadata": {},
   "outputs": [
    {
     "data": {
      "text/html": [
       "<div>\n",
       "<style scoped>\n",
       "    .dataframe tbody tr th:only-of-type {\n",
       "        vertical-align: middle;\n",
       "    }\n",
       "\n",
       "    .dataframe tbody tr th {\n",
       "        vertical-align: top;\n",
       "    }\n",
       "\n",
       "    .dataframe thead th {\n",
       "        text-align: right;\n",
       "    }\n",
       "</style>\n",
       "<table border=\"1\" class=\"dataframe\">\n",
       "  <thead>\n",
       "    <tr style=\"text-align: right;\">\n",
       "      <th></th>\n",
       "      <th>Id</th>\n",
       "      <th>Therapy Hours</th>\n",
       "      <th>Initial Health Score</th>\n",
       "      <th>Lifestyle Activities</th>\n",
       "      <th>Average Sleep Hours</th>\n",
       "      <th>Follow-Up Sessions</th>\n",
       "      <th>Recovery Index</th>\n",
       "    </tr>\n",
       "  </thead>\n",
       "  <tbody>\n",
       "    <tr>\n",
       "      <th>0</th>\n",
       "      <td>9255</td>\n",
       "      <td>0.006455</td>\n",
       "      <td>-1.183844</td>\n",
       "      <td>-0.989307</td>\n",
       "      <td>0.269888</td>\n",
       "      <td>0.134041</td>\n",
       "      <td>36</td>\n",
       "    </tr>\n",
       "    <tr>\n",
       "      <th>1</th>\n",
       "      <td>1562</td>\n",
       "      <td>-1.149747</td>\n",
       "      <td>-1.241506</td>\n",
       "      <td>1.010808</td>\n",
       "      <td>0.269888</td>\n",
       "      <td>0.483562</td>\n",
       "      <td>25</td>\n",
       "    </tr>\n",
       "    <tr>\n",
       "      <th>2</th>\n",
       "      <td>1671</td>\n",
       "      <td>-1.149747</td>\n",
       "      <td>0.661318</td>\n",
       "      <td>-0.989307</td>\n",
       "      <td>0.269888</td>\n",
       "      <td>-0.914520</td>\n",
       "      <td>59</td>\n",
       "    </tr>\n",
       "    <tr>\n",
       "      <th>3</th>\n",
       "      <td>6088</td>\n",
       "      <td>-1.149747</td>\n",
       "      <td>-1.356828</td>\n",
       "      <td>-0.989307</td>\n",
       "      <td>-0.318906</td>\n",
       "      <td>-1.264041</td>\n",
       "      <td>22</td>\n",
       "    </tr>\n",
       "    <tr>\n",
       "      <th>4</th>\n",
       "      <td>6670</td>\n",
       "      <td>1.162658</td>\n",
       "      <td>-1.299167</td>\n",
       "      <td>-0.989307</td>\n",
       "      <td>1.447477</td>\n",
       "      <td>-1.613561</td>\n",
       "      <td>40</td>\n",
       "    </tr>\n",
       "    <tr>\n",
       "      <th>...</th>\n",
       "      <td>...</td>\n",
       "      <td>...</td>\n",
       "      <td>...</td>\n",
       "      <td>...</td>\n",
       "      <td>...</td>\n",
       "      <td>...</td>\n",
       "      <td>...</td>\n",
       "    </tr>\n",
       "    <tr>\n",
       "      <th>7995</th>\n",
       "      <td>5735</td>\n",
       "      <td>1.162658</td>\n",
       "      <td>-1.126183</td>\n",
       "      <td>1.010808</td>\n",
       "      <td>-0.318906</td>\n",
       "      <td>0.483562</td>\n",
       "      <td>48</td>\n",
       "    </tr>\n",
       "    <tr>\n",
       "      <th>7996</th>\n",
       "      <td>5192</td>\n",
       "      <td>-0.378946</td>\n",
       "      <td>-0.088279</td>\n",
       "      <td>-0.989307</td>\n",
       "      <td>1.447477</td>\n",
       "      <td>-0.565000</td>\n",
       "      <td>51</td>\n",
       "    </tr>\n",
       "    <tr>\n",
       "      <th>7997</th>\n",
       "      <td>5391</td>\n",
       "      <td>1.548059</td>\n",
       "      <td>-1.241506</td>\n",
       "      <td>-0.989307</td>\n",
       "      <td>0.269888</td>\n",
       "      <td>0.483562</td>\n",
       "      <td>44</td>\n",
       "    </tr>\n",
       "    <tr>\n",
       "      <th>7998</th>\n",
       "      <td>861</td>\n",
       "      <td>-1.535148</td>\n",
       "      <td>-1.299167</td>\n",
       "      <td>-0.989307</td>\n",
       "      <td>1.447477</td>\n",
       "      <td>-1.613561</td>\n",
       "      <td>20</td>\n",
       "    </tr>\n",
       "    <tr>\n",
       "      <th>7999</th>\n",
       "      <td>7271</td>\n",
       "      <td>-1.149747</td>\n",
       "      <td>-1.356828</td>\n",
       "      <td>-0.989307</td>\n",
       "      <td>-0.318906</td>\n",
       "      <td>0.483562</td>\n",
       "      <td>24</td>\n",
       "    </tr>\n",
       "  </tbody>\n",
       "</table>\n",
       "<p>8000 rows × 7 columns</p>\n",
       "</div>"
      ],
      "text/plain": [
       "        Id  Therapy Hours  Initial Health Score  Lifestyle Activities  \\\n",
       "0     9255       0.006455             -1.183844             -0.989307   \n",
       "1     1562      -1.149747             -1.241506              1.010808   \n",
       "2     1671      -1.149747              0.661318             -0.989307   \n",
       "3     6088      -1.149747             -1.356828             -0.989307   \n",
       "4     6670       1.162658             -1.299167             -0.989307   \n",
       "...    ...            ...                   ...                   ...   \n",
       "7995  5735       1.162658             -1.126183              1.010808   \n",
       "7996  5192      -0.378946             -0.088279             -0.989307   \n",
       "7997  5391       1.548059             -1.241506             -0.989307   \n",
       "7998   861      -1.535148             -1.299167             -0.989307   \n",
       "7999  7271      -1.149747             -1.356828             -0.989307   \n",
       "\n",
       "      Average Sleep Hours  Follow-Up Sessions  Recovery Index  \n",
       "0                0.269888            0.134041              36  \n",
       "1                0.269888            0.483562              25  \n",
       "2                0.269888           -0.914520              59  \n",
       "3               -0.318906           -1.264041              22  \n",
       "4                1.447477           -1.613561              40  \n",
       "...                   ...                 ...             ...  \n",
       "7995            -0.318906            0.483562              48  \n",
       "7996             1.447477           -0.565000              51  \n",
       "7997             0.269888            0.483562              44  \n",
       "7998             1.447477           -1.613561              20  \n",
       "7999            -0.318906            0.483562              24  \n",
       "\n",
       "[8000 rows x 7 columns]"
      ]
     },
     "execution_count": 16,
     "metadata": {},
     "output_type": "execute_result"
    }
   ],
   "source": [
    "df=pd.read_csv(\"train_preprocessed.csv\")\n",
    "df"
   ]
  },
  {
   "cell_type": "code",
   "execution_count": 18,
   "id": "a6bc94aa",
   "metadata": {},
   "outputs": [
    {
     "name": "stdout",
     "output_type": "stream",
     "text": [
      "Samples: 8000, Features: 5\n"
     ]
    }
   ],
   "source": [
    "inputs=df.drop([\"Recovery Index\", \"Id\"], axis='columns')\n",
    "target=df['Recovery Index']\n",
    "X=inputs.values\n",
    "y=target.values\n",
    "print(f\"Samples: {X.shape[0]}, Features: {X.shape[1]}\")"
   ]
  },
  {
   "cell_type": "code",
   "execution_count": 19,
   "id": "6a6cf914",
   "metadata": {},
   "outputs": [
    {
     "name": "stdout",
     "output_type": "stream",
     "text": [
      "k=5: RMSE mean=2.7141, std=0.0571, time=1.6s\n",
      "k=10: RMSE mean=2.7093, std=0.0676, time=1.0s\n",
      "k=20: RMSE mean=2.7071, std=0.0915, time=0.8s\n"
     ]
    }
   ],
   "source": [
    "k_values=[5,10,20]\n",
    "cv_summary={}\n",
    "for k in k_values:\n",
    "    kf=KFold(n_splits=k,shuffle=True,random_state=42)\n",
    "    start=time.time()\n",
    "\n",
    "    model=DecisionTreeRegressor(max_depth=7,random_state=42)\n",
    "    scores=cross_val_score(model,X,y,scoring='neg_mean_squared_error', cv=kf, n_jobs=-1)\n",
    "    elapsed=time.time()-start\n",
    "    rmses=np.sqrt(-scores)\n",
    "    cv_summary[k]={'mean_rmse':rmses.mean(), 'std_rmse':rmses.std(),'time_sec':elapsed}\n",
    "    print(f\"k={k}: RMSE mean={rmses.mean():.4f}, std={rmses.std():.4f}, time={elapsed:.1f}s\")"
   ]
  },
  {
   "cell_type": "code",
   "execution_count": 20,
   "id": "60fa8efb",
   "metadata": {},
   "outputs": [
    {
     "name": "stdout",
     "output_type": "stream",
     "text": [
      "Selected k=20\n"
     ]
    }
   ],
   "source": [
    "best_k=min(cv_summary,key=lambda kk: cv_summary[kk]['mean_rmse'])\n",
    "print(f\"Selected k={best_k}\")\n"
   ]
  },
  {
   "cell_type": "code",
   "execution_count": 21,
   "id": "3f72cafd",
   "metadata": {},
   "outputs": [
    {
     "name": "stdout",
     "output_type": "stream",
     "text": [
      "GridSearchCV finished in 2.8s\n"
     ]
    }
   ],
   "source": [
    "param_grid={'max_depth':[3,5,7,9,12,None]}\n",
    "kf=KFold(n_splits=best_k, shuffle=True,random_state=42)\n",
    "gscv=GridSearchCV(DecisionTreeRegressor(random_state=42),\n",
    "                  param_grid,\n",
    "                  scoring='neg_mean_squared_error',\n",
    "                  cv=kf,\n",
    "                  n_jobs=-1)\n",
    "start=time.time()\n",
    "gscv.fit(X,y)\n",
    "print(f\"GridSearchCV finished in {time.time() - start:.1f}s\")\n"
   ]
  },
  {
   "cell_type": "code",
   "execution_count": 22,
   "id": "2d4bf881",
   "metadata": {},
   "outputs": [
    {
     "name": "stdout",
     "output_type": "stream",
     "text": [
      "Best params: {'max_depth': 9}, CV RMSE: 2.4992\n"
     ]
    }
   ],
   "source": [
    "best_params=gscv.best_params_\n",
    "best_cv_rmse=np.sqrt(-gscv.best_score_)\n",
    "print(f\"Best params: {best_params}, CV RMSE: {best_cv_rmse:.4f}\")\n"
   ]
  },
  {
   "cell_type": "code",
   "execution_count": 23,
   "id": "cde10104",
   "metadata": {},
   "outputs": [
    {
     "name": "stdout",
     "output_type": "stream",
     "text": [
      "Final model trained on full dataset\n"
     ]
    }
   ],
   "source": [
    "final_model=DecisionTreeRegressor(**best_params,random_state=42)\n",
    "final_model.fit(X,y)\n",
    "print(\"Final model trained on full dataset\")\n"
   ]
  },
  {
   "cell_type": "code",
   "execution_count": 24,
   "id": "2956c56d",
   "metadata": {},
   "outputs": [],
   "source": [
    "preds=final_model.predict(X)\n"
   ]
  },
  {
   "cell_type": "code",
   "execution_count": 25,
   "id": "1f293995",
   "metadata": {},
   "outputs": [
    {
     "name": "stdout",
     "output_type": "stream",
     "text": [
      "First 10 rows: actual vs predicted\n"
     ]
    },
    {
     "data": {
      "text/html": [
       "<div>\n",
       "<style scoped>\n",
       "    .dataframe tbody tr th:only-of-type {\n",
       "        vertical-align: middle;\n",
       "    }\n",
       "\n",
       "    .dataframe tbody tr th {\n",
       "        vertical-align: top;\n",
       "    }\n",
       "\n",
       "    .dataframe thead th {\n",
       "        text-align: right;\n",
       "    }\n",
       "</style>\n",
       "<table border=\"1\" class=\"dataframe\">\n",
       "  <thead>\n",
       "    <tr style=\"text-align: right;\">\n",
       "      <th></th>\n",
       "      <th>Id</th>\n",
       "      <th>Actual_RI</th>\n",
       "      <th>Predicted_RI</th>\n",
       "    </tr>\n",
       "  </thead>\n",
       "  <tbody>\n",
       "    <tr>\n",
       "      <th>0</th>\n",
       "      <td>9255</td>\n",
       "      <td>36</td>\n",
       "      <td>34.729730</td>\n",
       "    </tr>\n",
       "    <tr>\n",
       "      <th>1</th>\n",
       "      <td>1562</td>\n",
       "      <td>25</td>\n",
       "      <td>25.758621</td>\n",
       "    </tr>\n",
       "    <tr>\n",
       "      <th>2</th>\n",
       "      <td>1671</td>\n",
       "      <td>59</td>\n",
       "      <td>58.500000</td>\n",
       "    </tr>\n",
       "    <tr>\n",
       "      <th>3</th>\n",
       "      <td>6088</td>\n",
       "      <td>22</td>\n",
       "      <td>21.280000</td>\n",
       "    </tr>\n",
       "    <tr>\n",
       "      <th>4</th>\n",
       "      <td>6670</td>\n",
       "      <td>40</td>\n",
       "      <td>37.500000</td>\n",
       "    </tr>\n",
       "    <tr>\n",
       "      <th>5</th>\n",
       "      <td>5934</td>\n",
       "      <td>33</td>\n",
       "      <td>35.000000</td>\n",
       "    </tr>\n",
       "    <tr>\n",
       "      <th>6</th>\n",
       "      <td>8830</td>\n",
       "      <td>30</td>\n",
       "      <td>28.833333</td>\n",
       "    </tr>\n",
       "    <tr>\n",
       "      <th>7</th>\n",
       "      <td>7946</td>\n",
       "      <td>89</td>\n",
       "      <td>92.391304</td>\n",
       "    </tr>\n",
       "    <tr>\n",
       "      <th>8</th>\n",
       "      <td>3509</td>\n",
       "      <td>46</td>\n",
       "      <td>43.518519</td>\n",
       "    </tr>\n",
       "    <tr>\n",
       "      <th>9</th>\n",
       "      <td>2003</td>\n",
       "      <td>83</td>\n",
       "      <td>82.266667</td>\n",
       "    </tr>\n",
       "  </tbody>\n",
       "</table>\n",
       "</div>"
      ],
      "text/plain": [
       "     Id  Actual_RI  Predicted_RI\n",
       "0  9255         36     34.729730\n",
       "1  1562         25     25.758621\n",
       "2  1671         59     58.500000\n",
       "3  6088         22     21.280000\n",
       "4  6670         40     37.500000\n",
       "5  5934         33     35.000000\n",
       "6  8830         30     28.833333\n",
       "7  7946         89     92.391304\n",
       "8  3509         46     43.518519\n",
       "9  2003         83     82.266667"
      ]
     },
     "metadata": {},
     "output_type": "display_data"
    }
   ],
   "source": [
    "results_df=pd.DataFrame({\n",
    "    'Id': df['Id'],\n",
    "    'Actual_RI':y,\n",
    "    'Predicted_RI':preds\n",
    "})\n",
    "print(\"First 10 rows: actual vs predicted\")\n",
    "display(results_df.head(10))\n"
   ]
  },
  {
   "cell_type": "code",
   "execution_count": 26,
   "id": "8574b68e",
   "metadata": {},
   "outputs": [
    {
     "name": "stdout",
     "output_type": "stream",
     "text": [
      "Saved model to decision_tree_final.joblib\n"
     ]
    }
   ],
   "source": [
    "import joblib\n",
    "joblib.dump(final_model,\"decision_tree_final.joblib\",compress=3)\n",
    "print(\"Saved model to decision_tree_final.joblib\")"
   ]
  },
  {
   "cell_type": "code",
   "execution_count": null,
   "id": "7516b469",
   "metadata": {},
   "outputs": [],
   "source": []
  }
 ],
 "metadata": {
  "kernelspec": {
   "display_name": "Python 3",
   "language": "python",
   "name": "python3"
  },
  "language_info": {
   "codemirror_mode": {
    "name": "ipython",
    "version": 3
   },
   "file_extension": ".py",
   "mimetype": "text/x-python",
   "name": "python",
   "nbconvert_exporter": "python",
   "pygments_lexer": "ipython3",
   "version": "3.11.5"
  }
 },
 "nbformat": 4,
 "nbformat_minor": 5
}
