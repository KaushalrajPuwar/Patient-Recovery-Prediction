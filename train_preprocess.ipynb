{
 "cells": [
  {
   "cell_type": "code",
   "execution_count": null,
   "id": "728050b1",
   "metadata": {},
   "outputs": [],
   "source": [
    "import numpy as np\n",
    "import pandas as pd\n",
    "import matplotlib.pyplot as plt\n",
    "import seaborn as sns"
   ]
  },
  {
   "cell_type": "code",
   "execution_count": null,
   "id": "f8efcca4",
   "metadata": {},
   "outputs": [],
   "source": [
    "train_df=pd.read_csv(\"train.csv\")"
   ]
  },
  {
   "cell_type": "code",
   "execution_count": null,
   "id": "e7c1000f",
   "metadata": {},
   "outputs": [],
   "source": [
    "train_df #ehhe"
   ]
  },
  {
   "cell_type": "code",
   "execution_count": null,
   "id": "342e3693",
   "metadata": {},
   "outputs": [],
   "source": [
    "train_df.drop_duplicates(inplace=True)"
   ]
  },
  {
   "cell_type": "code",
   "execution_count": null,
   "id": "714098d9",
   "metadata": {},
   "outputs": [],
   "source": [
    "train_df.shape"
   ]
  },
  {
   "cell_type": "code",
   "execution_count": null,
   "id": "652812fc",
   "metadata": {},
   "outputs": [],
   "source": [
    "null_value_percentages = (train_df.isna().sum() / train_df.shape[0]) * 100\n",
    "null_value_percentages"
   ]
  },
  {
   "cell_type": "code",
   "execution_count": null,
   "id": "944b666f",
   "metadata": {},
   "outputs": [],
   "source": [
    "train_df.columns"
   ]
  },
  {
   "cell_type": "code",
   "execution_count": null,
   "id": "b10109b5",
   "metadata": {},
   "outputs": [],
   "source": [
    "train_df['Lifestyle Activities']=train_df['Lifestyle Activities'].map({'Yes':1,'No':0})\n",
    "train_df['Lifestyle Activities']"
   ]
  },
  {
   "cell_type": "code",
   "execution_count": null,
   "id": "53ec98a6",
   "metadata": {},
   "outputs": [],
   "source": [
    "print(train_df.info())\n",
    "print(train_df.head())\n",
    "print(train_df.isnull().sum())"
   ]
  },
  {
   "cell_type": "code",
   "execution_count": null,
   "id": "830bd18c",
   "metadata": {},
   "outputs": [],
   "source": [
    "train_df=train_df.fillna(train_df.mean())"
   ]
  },
  {
   "cell_type": "code",
   "execution_count": null,
   "id": "cc59184b",
   "metadata": {},
   "outputs": [],
   "source": [
    "numerical_cols=train_df.select_dtypes(include=['int64','float64','float32']).columns\n",
    "print(numerical_cols)"
   ]
  },
  {
   "cell_type": "code",
   "execution_count": null,
   "id": "c2939f3e",
   "metadata": {},
   "outputs": [],
   "source": [
    "feature_cols = [col for col in train_df.columns if col not in ['Id', 'Recovery Index']]\n",
    "\n",
    "from sklearn.preprocessing import StandardScaler\n",
    "scaler=StandardScaler()\n",
    "df_scaled=train_df.copy()\n",
    "df_scaled[feature_cols]=scaler.fit_transform(train_df[feature_cols])"
   ]
  },
  {
   "cell_type": "code",
   "execution_count": null,
   "id": "9170484c",
   "metadata": {},
   "outputs": [],
   "source": [
    "print(df_scaled)"
   ]
  },
  {
   "cell_type": "code",
   "execution_count": null,
   "id": "58a06cba",
   "metadata": {},
   "outputs": [],
   "source": [
    "print(\"Data Statistics:\")\n",
    "print(df_scaled.describe())"
   ]
  },
  {
   "cell_type": "code",
   "execution_count": null,
   "id": "63b8cacf",
   "metadata": {},
   "outputs": [],
   "source": [
    "corr_cols = [col for col in df_scaled.columns if col != 'Id']\n",
    "plt.figure(figsize=(10,8))\n",
    "sns.heatmap(df_scaled[corr_cols].corr(), annot=True, cmap='coolwarm')\n",
    "plt.title('Correlation Heatmap: Features vs Recovery Index')\n",
    "plt.show()"
   ]
  },
  {
   "cell_type": "code",
   "execution_count": null,
   "id": "80c3eb3a",
   "metadata": {},
   "outputs": [],
   "source": [
    "df_scaled.to_csv(\"processed_data.csv\", index=False)"
   ]
  }
 ],
 "metadata": {
  "kernelspec": {
   "display_name": "Python 3",
   "language": "python",
   "name": "python3"
  },
  "language_info": {
   "codemirror_mode": {
    "name": "ipython",
    "version": 3
   },
   "file_extension": ".py",
   "mimetype": "text/x-python",
   "name": "python",
   "nbconvert_exporter": "python",
   "pygments_lexer": "ipython3",
   "version": "3.13.1"
  }
 },
 "nbformat": 4,
 "nbformat_minor": 5
}
