{
 "cells": [
  {
   "cell_type": "code",
   "execution_count": 4,
   "id": "68a060a6",
   "metadata": {},
   "outputs": [],
   "source": [
    "import time\n",
    "import joblib\n",
    "import numpy as np\n",
    "import pandas as pd\n",
    "from sklearn.ensemble import BaggingRegressor\n",
    "from sklearn.tree import DecisionTreeRegressor\n",
    "from sklearn.model_selection import KFold, cross_val_score, GridSearchCV\n",
    "from sklearn.metrics import mean_squared_error, mean_absolute_error"
   ]
  },
  {
   "cell_type": "code",
   "execution_count": 2,
   "id": "b1131767",
   "metadata": {},
   "outputs": [
    {
     "data": {
      "text/html": [
       "<div>\n",
       "<style scoped>\n",
       "    .dataframe tbody tr th:only-of-type {\n",
       "        vertical-align: middle;\n",
       "    }\n",
       "\n",
       "    .dataframe tbody tr th {\n",
       "        vertical-align: top;\n",
       "    }\n",
       "\n",
       "    .dataframe thead th {\n",
       "        text-align: right;\n",
       "    }\n",
       "</style>\n",
       "<table border=\"1\" class=\"dataframe\">\n",
       "  <thead>\n",
       "    <tr style=\"text-align: right;\">\n",
       "      <th></th>\n",
       "      <th>Id</th>\n",
       "      <th>Therapy Hours</th>\n",
       "      <th>Initial Health Score</th>\n",
       "      <th>Lifestyle Activities</th>\n",
       "      <th>Average Sleep Hours</th>\n",
       "      <th>Follow-Up Sessions</th>\n",
       "      <th>Recovery Index</th>\n",
       "    </tr>\n",
       "  </thead>\n",
       "  <tbody>\n",
       "    <tr>\n",
       "      <th>0</th>\n",
       "      <td>9255</td>\n",
       "      <td>0.006455</td>\n",
       "      <td>-1.183844</td>\n",
       "      <td>-0.989307</td>\n",
       "      <td>0.269888</td>\n",
       "      <td>0.134041</td>\n",
       "      <td>36</td>\n",
       "    </tr>\n",
       "    <tr>\n",
       "      <th>1</th>\n",
       "      <td>1562</td>\n",
       "      <td>-1.149747</td>\n",
       "      <td>-1.241506</td>\n",
       "      <td>1.010808</td>\n",
       "      <td>0.269888</td>\n",
       "      <td>0.483562</td>\n",
       "      <td>25</td>\n",
       "    </tr>\n",
       "    <tr>\n",
       "      <th>2</th>\n",
       "      <td>1671</td>\n",
       "      <td>-1.149747</td>\n",
       "      <td>0.661318</td>\n",
       "      <td>-0.989307</td>\n",
       "      <td>0.269888</td>\n",
       "      <td>-0.914520</td>\n",
       "      <td>59</td>\n",
       "    </tr>\n",
       "    <tr>\n",
       "      <th>3</th>\n",
       "      <td>6088</td>\n",
       "      <td>-1.149747</td>\n",
       "      <td>-1.356828</td>\n",
       "      <td>-0.989307</td>\n",
       "      <td>-0.318906</td>\n",
       "      <td>-1.264041</td>\n",
       "      <td>22</td>\n",
       "    </tr>\n",
       "    <tr>\n",
       "      <th>4</th>\n",
       "      <td>6670</td>\n",
       "      <td>1.162658</td>\n",
       "      <td>-1.299167</td>\n",
       "      <td>-0.989307</td>\n",
       "      <td>1.447477</td>\n",
       "      <td>-1.613561</td>\n",
       "      <td>40</td>\n",
       "    </tr>\n",
       "    <tr>\n",
       "      <th>...</th>\n",
       "      <td>...</td>\n",
       "      <td>...</td>\n",
       "      <td>...</td>\n",
       "      <td>...</td>\n",
       "      <td>...</td>\n",
       "      <td>...</td>\n",
       "      <td>...</td>\n",
       "    </tr>\n",
       "    <tr>\n",
       "      <th>7995</th>\n",
       "      <td>5735</td>\n",
       "      <td>1.162658</td>\n",
       "      <td>-1.126183</td>\n",
       "      <td>1.010808</td>\n",
       "      <td>-0.318906</td>\n",
       "      <td>0.483562</td>\n",
       "      <td>48</td>\n",
       "    </tr>\n",
       "    <tr>\n",
       "      <th>7996</th>\n",
       "      <td>5192</td>\n",
       "      <td>-0.378946</td>\n",
       "      <td>-0.088279</td>\n",
       "      <td>-0.989307</td>\n",
       "      <td>1.447477</td>\n",
       "      <td>-0.565000</td>\n",
       "      <td>51</td>\n",
       "    </tr>\n",
       "    <tr>\n",
       "      <th>7997</th>\n",
       "      <td>5391</td>\n",
       "      <td>1.548059</td>\n",
       "      <td>-1.241506</td>\n",
       "      <td>-0.989307</td>\n",
       "      <td>0.269888</td>\n",
       "      <td>0.483562</td>\n",
       "      <td>44</td>\n",
       "    </tr>\n",
       "    <tr>\n",
       "      <th>7998</th>\n",
       "      <td>861</td>\n",
       "      <td>-1.535148</td>\n",
       "      <td>-1.299167</td>\n",
       "      <td>-0.989307</td>\n",
       "      <td>1.447477</td>\n",
       "      <td>-1.613561</td>\n",
       "      <td>20</td>\n",
       "    </tr>\n",
       "    <tr>\n",
       "      <th>7999</th>\n",
       "      <td>7271</td>\n",
       "      <td>-1.149747</td>\n",
       "      <td>-1.356828</td>\n",
       "      <td>-0.989307</td>\n",
       "      <td>-0.318906</td>\n",
       "      <td>0.483562</td>\n",
       "      <td>24</td>\n",
       "    </tr>\n",
       "  </tbody>\n",
       "</table>\n",
       "<p>8000 rows × 7 columns</p>\n",
       "</div>"
      ],
      "text/plain": [
       "        Id  Therapy Hours  Initial Health Score  Lifestyle Activities  \\\n",
       "0     9255       0.006455             -1.183844             -0.989307   \n",
       "1     1562      -1.149747             -1.241506              1.010808   \n",
       "2     1671      -1.149747              0.661318             -0.989307   \n",
       "3     6088      -1.149747             -1.356828             -0.989307   \n",
       "4     6670       1.162658             -1.299167             -0.989307   \n",
       "...    ...            ...                   ...                   ...   \n",
       "7995  5735       1.162658             -1.126183              1.010808   \n",
       "7996  5192      -0.378946             -0.088279             -0.989307   \n",
       "7997  5391       1.548059             -1.241506             -0.989307   \n",
       "7998   861      -1.535148             -1.299167             -0.989307   \n",
       "7999  7271      -1.149747             -1.356828             -0.989307   \n",
       "\n",
       "      Average Sleep Hours  Follow-Up Sessions  Recovery Index  \n",
       "0                0.269888            0.134041              36  \n",
       "1                0.269888            0.483562              25  \n",
       "2                0.269888           -0.914520              59  \n",
       "3               -0.318906           -1.264041              22  \n",
       "4                1.447477           -1.613561              40  \n",
       "...                   ...                 ...             ...  \n",
       "7995            -0.318906            0.483562              48  \n",
       "7996             1.447477           -0.565000              51  \n",
       "7997             0.269888            0.483562              44  \n",
       "7998             1.447477           -1.613561              20  \n",
       "7999            -0.318906            0.483562              24  \n",
       "\n",
       "[8000 rows x 7 columns]"
      ]
     },
     "execution_count": 2,
     "metadata": {},
     "output_type": "execute_result"
    }
   ],
   "source": [
    "df=pd.read_csv(\"train_preprocessed.csv\")\n",
    "df"
   ]
  },
  {
   "cell_type": "code",
   "execution_count": 3,
   "id": "91b1fac2",
   "metadata": {},
   "outputs": [
    {
     "name": "stdout",
     "output_type": "stream",
     "text": [
      "Samples: 8000, Features: 5\n"
     ]
    }
   ],
   "source": [
    "inputs=df.drop([\"Recovery Index\", \"Id\"], axis='columns')\n",
    "target=df['Recovery Index']\n",
    "X=inputs.values\n",
    "y=target.values\n",
    "print(f\"Samples: {X.shape[0]}, Features: {X.shape[1]}\")"
   ]
  },
  {
   "cell_type": "code",
   "execution_count": 11,
   "id": "a28d5e2f",
   "metadata": {},
   "outputs": [
    {
     "name": "stdout",
     "output_type": "stream",
     "text": [
      "k=5: RMSE mean=2.2424, std=0.0486, time=2.7s\n",
      "k=10: RMSE mean=2.2358, std=0.0604, time=1.7s\n",
      "k=18: RMSE mean=2.2317, std=0.0860, time=1.6s\n",
      "k=20: RMSE mean=2.2275, std=0.0813, time=0.8s\n",
      "k=25: RMSE mean=2.2299, std=0.0872, time=1.0s\n",
      "k=30: RMSE mean=2.2317, std=0.1096, time=1.2s\n"
     ]
    }
   ],
   "source": [
    "k_values=[5,10,18,20,25,30]\n",
    "cv_summary={}\n",
    "model=BaggingRegressor(estimator=DecisionTreeRegressor(max_depth=9,random_state=42),\n",
    "                       n_estimators=50,random_state=42,n_jobs=-1)\n",
    "\n",
    "for k in k_values:\n",
    "    kf=KFold(n_splits=k,shuffle=True,random_state=42)\n",
    "    start=time.time()\n",
    "    scores=cross_val_score(model,X,y,scoring='neg_mean_squared_error',cv=kf,n_jobs=-1)\n",
    "    elapsed=time.time()-start\n",
    "    rmses=np.sqrt(-scores)\n",
    "    cv_summary[k]={'mean_rmse':rmses.mean(), 'std_rmse':rmses.std(),'time_sec':elapsed}\n",
    "    print(f\"k={k}: RMSE mean={rmses.mean():.4f}, std={rmses.std():.4f}, time={elapsed:.1f}s\")\n",
    "\n"
   ]
  },
  {
   "cell_type": "code",
   "execution_count": 12,
   "id": "b6840769",
   "metadata": {},
   "outputs": [
    {
     "name": "stdout",
     "output_type": "stream",
     "text": [
      "Selected k = 20\n"
     ]
    }
   ],
   "source": [
    "best_k=min(cv_summary,key=lambda kk: cv_summary[kk]['mean_rmse'])\n",
    "print(f\"Selected k = {best_k}\")"
   ]
  },
  {
   "cell_type": "code",
   "execution_count": 15,
   "id": "271324b9",
   "metadata": {},
   "outputs": [
    {
     "name": "stdout",
     "output_type": "stream",
     "text": [
      "Fitting 20 folds for each of 108 candidates, totalling 2160 fits\n",
      "GridSearchCV finished in 113.0s\n"
     ]
    }
   ],
   "source": [
    "param_grid={\n",
    "    'n_estimators':[30,50,100],\n",
    "    'max_samples':[0.6,0.8,1.0],\n",
    "    'max_features':[0.6,0.8,1.0],\n",
    "    'estimator__max_depth':[5,7,9,None]\n",
    "}\n",
    "kf=KFold(n_splits=best_k,shuffle=True,random_state=42)\n",
    "bag=BaggingRegressor(estimator=DecisionTreeRegressor(random_state=42),\n",
    "                     random_state=42,n_jobs=-1)\n",
    "gscv=GridSearchCV(bag,param_grid,scoring='neg_mean_squared_error',cv=kf,n_jobs=-1,verbose=1)\n",
    "start=time.time()\n",
    "gscv.fit(X,y)\n",
    "print(f\"GridSearchCV finished in {time.time() - start:.1f}s\")\n",
    "\n"
   ]
  },
  {
   "cell_type": "code",
   "execution_count": 16,
   "id": "372815af",
   "metadata": {},
   "outputs": [
    {
     "name": "stdout",
     "output_type": "stream",
     "text": [
      "Best params: {'estimator__max_depth': 9, 'max_features': 1.0, 'max_samples': 0.6, 'n_estimators': 100}, CV RMSE: 2.2027\n"
     ]
    }
   ],
   "source": [
    "best_params=gscv.best_params_\n",
    "best_rmse=np.sqrt(-gscv.best_score_)\n",
    "print(f\"Best params: {best_params}, CV RMSE: {best_rmse:.4f}\")\n"
   ]
  },
  {
   "cell_type": "code",
   "execution_count": 19,
   "id": "19774a01",
   "metadata": {},
   "outputs": [],
   "source": [
    "depth = best_params.get('estimator__max_depth', None)\n",
    "n_estimators = best_params['n_estimators']\n",
    "max_samples = best_params['max_samples']\n",
    "max_features = best_params['max_features']\n",
    "base_dt = DecisionTreeRegressor(max_depth=depth, random_state=42)\n",
    "final_bag = BaggingRegressor(\n",
    "    estimator=base_dt,\n",
    "    n_estimators=n_estimators,\n",
    "    max_samples=max_samples,\n",
    "    max_features=max_features,\n",
    "    random_state=42,\n",
    "    n_jobs=-1\n",
    ")\n",
    "\n"
   ]
  },
  {
   "cell_type": "code",
   "execution_count": 20,
   "id": "e4992e56",
   "metadata": {},
   "outputs": [
    {
     "name": "stdout",
     "output_type": "stream",
     "text": [
      "Final bagging model trained on full dataset\n"
     ]
    }
   ],
   "source": [
    "\n",
    "final_bag.fit(X,y)\n",
    "print(\"Final bagging model trained on full dataset\")"
   ]
  },
  {
   "cell_type": "code",
   "execution_count": 22,
   "id": "a8e50ccb",
   "metadata": {},
   "outputs": [
    {
     "name": "stdout",
     "output_type": "stream",
     "text": [
      "First 10 rows: actual vs predicted\n"
     ]
    },
    {
     "data": {
      "text/html": [
       "<div>\n",
       "<style scoped>\n",
       "    .dataframe tbody tr th:only-of-type {\n",
       "        vertical-align: middle;\n",
       "    }\n",
       "\n",
       "    .dataframe tbody tr th {\n",
       "        vertical-align: top;\n",
       "    }\n",
       "\n",
       "    .dataframe thead th {\n",
       "        text-align: right;\n",
       "    }\n",
       "</style>\n",
       "<table border=\"1\" class=\"dataframe\">\n",
       "  <thead>\n",
       "    <tr style=\"text-align: right;\">\n",
       "      <th></th>\n",
       "      <th>Id</th>\n",
       "      <th>Actual RI</th>\n",
       "      <th>Predicted RI</th>\n",
       "      <th>Absolute Error</th>\n",
       "    </tr>\n",
       "  </thead>\n",
       "  <tbody>\n",
       "    <tr>\n",
       "      <th>0</th>\n",
       "      <td>9255</td>\n",
       "      <td>36</td>\n",
       "      <td>34.396849</td>\n",
       "      <td>1.603151</td>\n",
       "    </tr>\n",
       "    <tr>\n",
       "      <th>1</th>\n",
       "      <td>1562</td>\n",
       "      <td>25</td>\n",
       "      <td>25.477669</td>\n",
       "      <td>0.477669</td>\n",
       "    </tr>\n",
       "    <tr>\n",
       "      <th>2</th>\n",
       "      <td>1671</td>\n",
       "      <td>59</td>\n",
       "      <td>58.872819</td>\n",
       "      <td>0.127181</td>\n",
       "    </tr>\n",
       "    <tr>\n",
       "      <th>3</th>\n",
       "      <td>6088</td>\n",
       "      <td>22</td>\n",
       "      <td>21.195034</td>\n",
       "      <td>0.804966</td>\n",
       "    </tr>\n",
       "    <tr>\n",
       "      <th>4</th>\n",
       "      <td>6670</td>\n",
       "      <td>40</td>\n",
       "      <td>39.864783</td>\n",
       "      <td>0.135217</td>\n",
       "    </tr>\n",
       "    <tr>\n",
       "      <th>5</th>\n",
       "      <td>5934</td>\n",
       "      <td>33</td>\n",
       "      <td>34.858745</td>\n",
       "      <td>1.858745</td>\n",
       "    </tr>\n",
       "    <tr>\n",
       "      <th>6</th>\n",
       "      <td>8830</td>\n",
       "      <td>30</td>\n",
       "      <td>29.861095</td>\n",
       "      <td>0.138905</td>\n",
       "    </tr>\n",
       "    <tr>\n",
       "      <th>7</th>\n",
       "      <td>7946</td>\n",
       "      <td>89</td>\n",
       "      <td>89.564933</td>\n",
       "      <td>0.564933</td>\n",
       "    </tr>\n",
       "    <tr>\n",
       "      <th>8</th>\n",
       "      <td>3509</td>\n",
       "      <td>46</td>\n",
       "      <td>43.724817</td>\n",
       "      <td>2.275183</td>\n",
       "    </tr>\n",
       "    <tr>\n",
       "      <th>9</th>\n",
       "      <td>2003</td>\n",
       "      <td>83</td>\n",
       "      <td>79.622876</td>\n",
       "      <td>3.377124</td>\n",
       "    </tr>\n",
       "  </tbody>\n",
       "</table>\n",
       "</div>"
      ],
      "text/plain": [
       "     Id  Actual RI  Predicted RI  Absolute Error\n",
       "0  9255         36     34.396849        1.603151\n",
       "1  1562         25     25.477669        0.477669\n",
       "2  1671         59     58.872819        0.127181\n",
       "3  6088         22     21.195034        0.804966\n",
       "4  6670         40     39.864783        0.135217\n",
       "5  5934         33     34.858745        1.858745\n",
       "6  8830         30     29.861095        0.138905\n",
       "7  7946         89     89.564933        0.564933\n",
       "8  3509         46     43.724817        2.275183\n",
       "9  2003         83     79.622876        3.377124"
      ]
     },
     "execution_count": 22,
     "metadata": {},
     "output_type": "execute_result"
    }
   ],
   "source": [
    "preds=final_bag.predict(X)\n",
    "results_df=pd.DataFrame({\n",
    "    'Id':df['Id'],\n",
    "    'Actual RI':y,\n",
    "    'Predicted RI':preds,\n",
    "    'Absolute Error':abs(preds-y)\n",
    "})\n",
    "print(\"First 10 rows: actual vs predicted\")\n",
    "results_df.head(10)\n"
   ]
  },
  {
   "cell_type": "code",
   "execution_count": 27,
   "id": "2a611c6f",
   "metadata": {},
   "outputs": [
    {
     "name": "stdout",
     "output_type": "stream",
     "text": [
      "RMSE for the data ->1.849399143170418\n",
      "MSE for the data ->3.4202771907594762\n"
     ]
    }
   ],
   "source": [
    "mse_full = mean_squared_error(results_df['Actual RI'], results_df['Predicted RI'])\n",
    "rmse_full = np.sqrt(mse_full)\n",
    "print(f\"RMSE for the data ->{rmse_full}\")\n",
    "print(f\"MSE for the data ->{mse_full}\")\n"
   ]
  },
  {
   "cell_type": "code",
   "execution_count": 29,
   "id": "9ea1759c",
   "metadata": {},
   "outputs": [
    {
     "name": "stdout",
     "output_type": "stream",
     "text": [
      "Saved model to bagging_method.joblib\n"
     ]
    }
   ],
   "source": [
    "joblib.dump({'model':final_bag},\"bagging_method.joblib\",compress=3)\n",
    "print(\"Saved model to bagging_method.joblib\")"
   ]
  },
  {
   "cell_type": "code",
   "execution_count": null,
   "id": "1371d7fd",
   "metadata": {},
   "outputs": [],
   "source": []
  }
 ],
 "metadata": {
  "kernelspec": {
   "display_name": "Python 3",
   "language": "python",
   "name": "python3"
  },
  "language_info": {
   "codemirror_mode": {
    "name": "ipython",
    "version": 3
   },
   "file_extension": ".py",
   "mimetype": "text/x-python",
   "name": "python",
   "nbconvert_exporter": "python",
   "pygments_lexer": "ipython3",
   "version": "3.11.5"
  }
 },
 "nbformat": 4,
 "nbformat_minor": 5
}
