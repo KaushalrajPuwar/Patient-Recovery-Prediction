{
 "cells": [
  {
   "cell_type": "code",
   "execution_count": 2,
   "id": "728050b1",
   "metadata": {},
   "outputs": [],
   "source": [
    "import numpy as np\n",
    "import pandas as pd\n",
    "import matplotlib.pyplot as plt\n",
    "import seaborn as sns"
   ]
  },
  {
   "cell_type": "code",
   "execution_count": 3,
   "id": "f8efcca4",
   "metadata": {},
   "outputs": [],
   "source": [
    "train_df=pd.read_csv(\"train.csv\")"
   ]
  },
  {
   "cell_type": "code",
   "execution_count": null,
   "id": "e7c1000f",
   "metadata": {},
   "outputs": [
    {
     "data": {
      "text/html": [
       "<div>\n",
       "<style scoped>\n",
       "    .dataframe tbody tr th:only-of-type {\n",
       "        vertical-align: middle;\n",
       "    }\n",
       "\n",
       "    .dataframe tbody tr th {\n",
       "        vertical-align: top;\n",
       "    }\n",
       "\n",
       "    .dataframe thead th {\n",
       "        text-align: right;\n",
       "    }\n",
       "</style>\n",
       "<table border=\"1\" class=\"dataframe\">\n",
       "  <thead>\n",
       "    <tr style=\"text-align: right;\">\n",
       "      <th></th>\n",
       "      <th>Id</th>\n",
       "      <th>Therapy Hours</th>\n",
       "      <th>Initial Health Score</th>\n",
       "      <th>Lifestyle Activities</th>\n",
       "      <th>Average Sleep Hours</th>\n",
       "      <th>Follow-Up Sessions</th>\n",
       "      <th>Recovery Index</th>\n",
       "    </tr>\n",
       "  </thead>\n",
       "  <tbody>\n",
       "    <tr>\n",
       "      <th>0</th>\n",
       "      <td>9255</td>\n",
       "      <td>5</td>\n",
       "      <td>49</td>\n",
       "      <td>No</td>\n",
       "      <td>7</td>\n",
       "      <td>5</td>\n",
       "      <td>36</td>\n",
       "    </tr>\n",
       "    <tr>\n",
       "      <th>1</th>\n",
       "      <td>1562</td>\n",
       "      <td>2</td>\n",
       "      <td>48</td>\n",
       "      <td>Yes</td>\n",
       "      <td>7</td>\n",
       "      <td>6</td>\n",
       "      <td>25</td>\n",
       "    </tr>\n",
       "    <tr>\n",
       "      <th>2</th>\n",
       "      <td>1671</td>\n",
       "      <td>2</td>\n",
       "      <td>81</td>\n",
       "      <td>No</td>\n",
       "      <td>7</td>\n",
       "      <td>2</td>\n",
       "      <td>59</td>\n",
       "    </tr>\n",
       "    <tr>\n",
       "      <th>3</th>\n",
       "      <td>6088</td>\n",
       "      <td>2</td>\n",
       "      <td>46</td>\n",
       "      <td>No</td>\n",
       "      <td>6</td>\n",
       "      <td>1</td>\n",
       "      <td>22</td>\n",
       "    </tr>\n",
       "    <tr>\n",
       "      <th>4</th>\n",
       "      <td>6670</td>\n",
       "      <td>8</td>\n",
       "      <td>47</td>\n",
       "      <td>No</td>\n",
       "      <td>9</td>\n",
       "      <td>0</td>\n",
       "      <td>40</td>\n",
       "    </tr>\n",
       "    <tr>\n",
       "      <th>...</th>\n",
       "      <td>...</td>\n",
       "      <td>...</td>\n",
       "      <td>...</td>\n",
       "      <td>...</td>\n",
       "      <td>...</td>\n",
       "      <td>...</td>\n",
       "      <td>...</td>\n",
       "    </tr>\n",
       "    <tr>\n",
       "      <th>7995</th>\n",
       "      <td>5735</td>\n",
       "      <td>8</td>\n",
       "      <td>50</td>\n",
       "      <td>Yes</td>\n",
       "      <td>6</td>\n",
       "      <td>6</td>\n",
       "      <td>48</td>\n",
       "    </tr>\n",
       "    <tr>\n",
       "      <th>7996</th>\n",
       "      <td>5192</td>\n",
       "      <td>4</td>\n",
       "      <td>68</td>\n",
       "      <td>No</td>\n",
       "      <td>9</td>\n",
       "      <td>3</td>\n",
       "      <td>51</td>\n",
       "    </tr>\n",
       "    <tr>\n",
       "      <th>7997</th>\n",
       "      <td>5391</td>\n",
       "      <td>9</td>\n",
       "      <td>48</td>\n",
       "      <td>No</td>\n",
       "      <td>7</td>\n",
       "      <td>6</td>\n",
       "      <td>44</td>\n",
       "    </tr>\n",
       "    <tr>\n",
       "      <th>7998</th>\n",
       "      <td>861</td>\n",
       "      <td>1</td>\n",
       "      <td>47</td>\n",
       "      <td>No</td>\n",
       "      <td>9</td>\n",
       "      <td>0</td>\n",
       "      <td>20</td>\n",
       "    </tr>\n",
       "    <tr>\n",
       "      <th>7999</th>\n",
       "      <td>7271</td>\n",
       "      <td>2</td>\n",
       "      <td>46</td>\n",
       "      <td>No</td>\n",
       "      <td>6</td>\n",
       "      <td>6</td>\n",
       "      <td>24</td>\n",
       "    </tr>\n",
       "  </tbody>\n",
       "</table>\n",
       "<p>8000 rows × 7 columns</p>\n",
       "</div>"
      ],
      "text/plain": [
       "        Id  Therapy Hours  Initial Health Score Lifestyle Activities  \\\n",
       "0     9255              5                    49                   No   \n",
       "1     1562              2                    48                  Yes   \n",
       "2     1671              2                    81                   No   \n",
       "3     6088              2                    46                   No   \n",
       "4     6670              8                    47                   No   \n",
       "...    ...            ...                   ...                  ...   \n",
       "7995  5735              8                    50                  Yes   \n",
       "7996  5192              4                    68                   No   \n",
       "7997  5391              9                    48                   No   \n",
       "7998   861              1                    47                   No   \n",
       "7999  7271              2                    46                   No   \n",
       "\n",
       "      Average Sleep Hours  Follow-Up Sessions  Recovery Index  \n",
       "0                       7                   5              36  \n",
       "1                       7                   6              25  \n",
       "2                       7                   2              59  \n",
       "3                       6                   1              22  \n",
       "4                       9                   0              40  \n",
       "...                   ...                 ...             ...  \n",
       "7995                    6                   6              48  \n",
       "7996                    9                   3              51  \n",
       "7997                    7                   6              44  \n",
       "7998                    9                   0              20  \n",
       "7999                    6                   6              24  \n",
       "\n",
       "[8000 rows x 7 columns]"
      ]
     },
     "execution_count": 4,
     "metadata": {},
     "output_type": "execute_result"
    }
   ],
   "source": [
    "train_df #ehhe"
   ]
  },
  {
   "cell_type": "code",
   "execution_count": 5,
   "id": "342e3693",
   "metadata": {},
   "outputs": [],
   "source": [
    "train_df.drop_duplicates(inplace=True)"
   ]
  },
  {
   "cell_type": "code",
   "execution_count": 6,
   "id": "714098d9",
   "metadata": {},
   "outputs": [
    {
     "data": {
      "text/plain": [
       "(8000, 7)"
      ]
     },
     "execution_count": 6,
     "metadata": {},
     "output_type": "execute_result"
    }
   ],
   "source": [
    "train_df.shape"
   ]
  },
  {
   "cell_type": "code",
   "execution_count": 7,
   "id": "9d5bdbe9",
   "metadata": {},
   "outputs": [
    {
     "data": {
      "text/plain": [
       "Id                      0.0\n",
       "Therapy Hours           0.0\n",
       "Initial Health Score    0.0\n",
       "Lifestyle Activities    0.0\n",
       "Average Sleep Hours     0.0\n",
       "Follow-Up Sessions      0.0\n",
       "Recovery Index          0.0\n",
       "dtype: float64"
      ]
     },
     "execution_count": 7,
     "metadata": {},
     "output_type": "execute_result"
    }
   ],
   "source": [
    "null_value_percentages = (train_df.isna().sum() / train_df.shape[0]) * 100\n",
    "null_value_percentages"
   ]
  },
  {
   "cell_type": "code",
   "execution_count": 8,
   "id": "944b666f",
   "metadata": {},
   "outputs": [
    {
     "data": {
      "text/plain": [
       "Index(['Id', 'Therapy Hours', 'Initial Health Score', 'Lifestyle Activities',\n",
       "       'Average Sleep Hours', 'Follow-Up Sessions', 'Recovery Index'],\n",
       "      dtype='object')"
      ]
     },
     "execution_count": 8,
     "metadata": {},
     "output_type": "execute_result"
    }
   ],
   "source": [
    "train_df.columns"
   ]
  },
  {
   "cell_type": "code",
   "execution_count": 9,
   "id": "b10109b5",
   "metadata": {},
   "outputs": [
    {
     "data": {
      "text/plain": [
       "0       0\n",
       "1       1\n",
       "2       0\n",
       "3       0\n",
       "4       0\n",
       "       ..\n",
       "7995    1\n",
       "7996    0\n",
       "7997    0\n",
       "7998    0\n",
       "7999    0\n",
       "Name: Lifestyle Activities, Length: 8000, dtype: int64"
      ]
     },
     "execution_count": 9,
     "metadata": {},
     "output_type": "execute_result"
    }
   ],
   "source": [
    "train_df['Lifestyle Activities']=train_df['Lifestyle Activities'].map({'Yes':1,'No':0})\n",
    "train_df['Lifestyle Activities']"
   ]
  },
  {
   "cell_type": "code",
   "execution_count": 10,
   "id": "53ec98a6",
   "metadata": {},
   "outputs": [
    {
     "name": "stdout",
     "output_type": "stream",
     "text": [
      "<class 'pandas.core.frame.DataFrame'>\n",
      "RangeIndex: 8000 entries, 0 to 7999\n",
      "Data columns (total 7 columns):\n",
      " #   Column                Non-Null Count  Dtype\n",
      "---  ------                --------------  -----\n",
      " 0   Id                    8000 non-null   int64\n",
      " 1   Therapy Hours         8000 non-null   int64\n",
      " 2   Initial Health Score  8000 non-null   int64\n",
      " 3   Lifestyle Activities  8000 non-null   int64\n",
      " 4   Average Sleep Hours   8000 non-null   int64\n",
      " 5   Follow-Up Sessions    8000 non-null   int64\n",
      " 6   Recovery Index        8000 non-null   int64\n",
      "dtypes: int64(7)\n",
      "memory usage: 437.6 KB\n",
      "None\n",
      "     Id  Therapy Hours  Initial Health Score  Lifestyle Activities  \\\n",
      "0  9255              5                    49                     0   \n",
      "1  1562              2                    48                     1   \n",
      "2  1671              2                    81                     0   \n",
      "3  6088              2                    46                     0   \n",
      "4  6670              8                    47                     0   \n",
      "\n",
      "   Average Sleep Hours  Follow-Up Sessions  Recovery Index  \n",
      "0                    7                   5              36  \n",
      "1                    7                   6              25  \n",
      "2                    7                   2              59  \n",
      "3                    6                   1              22  \n",
      "4                    9                   0              40  \n",
      "Id                      0\n",
      "Therapy Hours           0\n",
      "Initial Health Score    0\n",
      "Lifestyle Activities    0\n",
      "Average Sleep Hours     0\n",
      "Follow-Up Sessions      0\n",
      "Recovery Index          0\n",
      "dtype: int64\n"
     ]
    }
   ],
   "source": [
    "print(train_df.info())\n",
    "print(train_df.head())\n",
    "print(train_df.isnull().sum())"
   ]
  },
  {
   "cell_type": "code",
   "execution_count": 11,
   "id": "830bd18c",
   "metadata": {},
   "outputs": [],
   "source": [
    "train_df=train_df.fillna(train_df.mean())"
   ]
  },
  {
   "cell_type": "code",
   "execution_count": 15,
   "id": "cc59184b",
   "metadata": {},
   "outputs": [
    {
     "name": "stdout",
     "output_type": "stream",
     "text": [
      "Index(['Id', 'Therapy Hours', 'Initial Health Score', 'Lifestyle Activities',\n",
      "       'Average Sleep Hours', 'Follow-Up Sessions', 'Recovery Index'],\n",
      "      dtype='object')\n"
     ]
    }
   ],
   "source": [
    "numerical_cols=train_df.select_dtypes(include=['int64','float64','float32']).columns\n",
    "print(numerical_cols)"
   ]
  },
  {
   "cell_type": "code",
   "execution_count": 35,
   "id": "c2939f3e",
   "metadata": {},
   "outputs": [],
   "source": [
    "feature_cols = [col for col in train_df.columns if col not in ['Id', 'Recovery Index']]\n",
    "\n",
    "from sklearn.preprocessing import StandardScaler\n",
    "scaler=StandardScaler()\n",
    "df_scaled=train_df.copy()\n",
    "df_scaled[feature_cols]=scaler.fit_transform(train_df[feature_cols])"
   ]
  },
  {
   "cell_type": "code",
   "execution_count": 36,
   "id": "9170484c",
   "metadata": {},
   "outputs": [
    {
     "name": "stdout",
     "output_type": "stream",
     "text": [
      "        Id  Therapy Hours  Initial Health Score  Lifestyle Activities  \\\n",
      "0     9255       0.006455             -1.183844             -0.989307   \n",
      "1     1562      -1.149747             -1.241506              1.010808   \n",
      "2     1671      -1.149747              0.661318             -0.989307   \n",
      "3     6088      -1.149747             -1.356828             -0.989307   \n",
      "4     6670       1.162658             -1.299167             -0.989307   \n",
      "...    ...            ...                   ...                   ...   \n",
      "7995  5735       1.162658             -1.126183              1.010808   \n",
      "7996  5192      -0.378946             -0.088279             -0.989307   \n",
      "7997  5391       1.548059             -1.241506             -0.989307   \n",
      "7998   861      -1.535148             -1.299167             -0.989307   \n",
      "7999  7271      -1.149747             -1.356828             -0.989307   \n",
      "\n",
      "      Average Sleep Hours  Follow-Up Sessions  Recovery Index  \n",
      "0                0.269888            0.134041              36  \n",
      "1                0.269888            0.483562              25  \n",
      "2                0.269888           -0.914520              59  \n",
      "3               -0.318906           -1.264041              22  \n",
      "4                1.447477           -1.613561              40  \n",
      "...                   ...                 ...             ...  \n",
      "7995            -0.318906            0.483562              48  \n",
      "7996             1.447477           -0.565000              51  \n",
      "7997             0.269888            0.483562              44  \n",
      "7998             1.447477           -1.613561              20  \n",
      "7999            -0.318906            0.483562              24  \n",
      "\n",
      "[8000 rows x 7 columns]\n"
     ]
    }
   ],
   "source": [
    "print(df_scaled)"
   ]
  },
  {
   "cell_type": "code",
   "execution_count": 37,
   "id": "58a06cba",
   "metadata": {},
   "outputs": [
    {
     "name": "stdout",
     "output_type": "stream",
     "text": [
      "Data Statistics:\n",
      "                 Id  Therapy Hours  Initial Health Score  \\\n",
      "count   8000.000000   8.000000e+03          8.000000e+03   \n",
      "mean    5012.506875   2.842171e-17         -3.321787e-16   \n",
      "std     2887.649416   1.000063e+00          1.000063e+00   \n",
      "min        2.000000  -1.535148e+00         -1.702796e+00   \n",
      "25%     2512.750000  -7.643465e-01         -8.522919e-01   \n",
      "50%     5014.500000   6.455466e-03          2.704316e-02   \n",
      "75%     7505.250000   7.772574e-01          8.919628e-01   \n",
      "max    10000.000000   1.548059e+00          1.699221e+00   \n",
      "\n",
      "       Lifestyle Activities  Average Sleep Hours  Follow-Up Sessions  \\\n",
      "count          8.000000e+03         8.000000e+03        8.000000e+03   \n",
      "mean           5.151435e-17         1.367795e-16       -8.171241e-17   \n",
      "std            1.000063e+00         1.000063e+00        1.000063e+00   \n",
      "min           -9.893072e-01        -1.496494e+00       -1.613561e+00   \n",
      "25%           -9.893072e-01        -9.076996e-01       -9.145204e-01   \n",
      "50%           -9.893072e-01         2.698885e-01        1.340411e-01   \n",
      "75%            1.010808e+00         8.586825e-01        8.330822e-01   \n",
      "max            1.010808e+00         1.447477e+00        1.532123e+00   \n",
      "\n",
      "       Recovery Index  \n",
      "count     8000.000000  \n",
      "mean        55.311500  \n",
      "std         19.202059  \n",
      "min         10.000000  \n",
      "25%         40.000000  \n",
      "50%         55.000000  \n",
      "75%         71.000000  \n",
      "max        100.000000  \n"
     ]
    }
   ],
   "source": [
    "print(\"Data Statistics:\")\n",
    "print(df_scaled.describe())"
   ]
  },
  {
   "cell_type": "code",
   "execution_count": 39,
   "id": "63b8cacf",
   "metadata": {},
   "outputs": [
    {
     "data": {
      "image/png": "[encoded data removed]",
      "text/plain": [
       "<Figure size 1000x800 with 2 Axes>"
      ]
     },
     "metadata": {},
     "output_type": "display_data"
    }
   ],
   "source": [
    "corr_cols = [col for col in df_scaled.columns if col != 'Id']\n",
    "plt.figure(figsize=(10,8))\n",
    "sns.heatmap(df_scaled[corr_cols].corr(), annot=True, cmap='coolwarm')\n",
    "plt.title('Correlation Heatmap: Features vs Recovery Index')\n",
    "plt.show()"
   ]
  },
  {
   "cell_type": "code",
   "execution_count": null,
   "id": "80c3eb3a",
   "metadata": {},
   "outputs": [],
   "source": []
  }
 ],
 "metadata": {
  "kernelspec": {
   "display_name": "Python 3",
   "language": "python",
   "name": "python3"
  },
  "language_info": {
   "codemirror_mode": {
    "name": "ipython",
    "version": 3
   },
   "file_extension": ".py",
   "mimetype": "text/x-python",
   "name": "python",
   "nbconvert_exporter": "python",
   "pygments_lexer": "ipython3",
   "version": "3.11.5"
  }
 },
 "nbformat": 4,
 "nbformat_minor": 5
}
