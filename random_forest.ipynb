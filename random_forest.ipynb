{
 "cells": [
  {
   "cell_type": "code",
   "execution_count": 1,
   "id": "550389b9",
   "metadata": {},
   "outputs": [],
   "source": [
    "import time\n",
    "import pandas as pd\n",
    "import numpy as np\n",
    "from sklearn.ensemble import RandomForestRegressor\n",
    "from sklearn.model_selection import KFold, cross_val_score, GridSearchCV\n",
    "from sklearn.metrics import mean_squared_error, mean_absolute_error\n",
    "import joblib"
   ]
  },
  {
   "cell_type": "code",
   "execution_count": 2,
   "id": "a3815e1c",
   "metadata": {},
   "outputs": [],
   "source": [
    "df = pd.read_csv(\"train_preprocessed.csv\")"
   ]
  },
  {
   "cell_type": "code",
   "execution_count": 3,
   "id": "d987ec59",
   "metadata": {},
   "outputs": [
    {
     "name": "stdout",
     "output_type": "stream",
     "text": [
      "Samples: 8000, Features: 5\n"
     ]
    }
   ],
   "source": [
    "inputs = df.drop([\"Recovery Index\", \"Id\"], axis=1)\n",
    "target = df[\"Recovery Index\"]\n",
    "X = inputs.values\n",
    "y = target.values\n",
    "print(f\"Samples: {X.shape[0]}, Features: {X.shape[1]}\")"
   ]
  },
  {
   "cell_type": "code",
   "execution_count": 4,
   "id": "df156be1",
   "metadata": {},
   "outputs": [
    {
     "name": "stdout",
     "output_type": "stream",
     "text": [
      "k=5: RMSE mean=2.3458, std=0.0443, time=2.6s\n",
      "k=10: RMSE mean=2.3547, std=0.0541, time=2.7s\n",
      "k=15: RMSE mean=2.3461, std=0.0944, time=3.6s\n",
      "k=18: RMSE mean=2.3558, std=0.0923, time=2.4s\n",
      "k=20: RMSE mean=2.3542, std=0.0844, time=2.7s\n",
      "k=25: RMSE mean=2.3528, std=0.0934, time=3.3s\n"
     ]
    }
   ],
   "source": [
    "k_values = [5,10,15,18,20,25]\n",
    "cv_summary = {}\n",
    "base = RandomForestRegressor(n_estimators=100, random_state=42, n_jobs=-1)\n",
    "for k in k_values:\n",
    "    kf = KFold(n_splits=k, shuffle=True, random_state=42)\n",
    "    start = time.time()\n",
    "    scores = cross_val_score(base, X, y, scoring=\"neg_mean_squared_error\", cv=kf, n_jobs=-1)\n",
    "    elapsed = time.time() - start\n",
    "    rmses = np.sqrt(-scores)\n",
    "    cv_summary[k] = {\"mean_rmse\": rmses.mean(), \"std_rmse\": rmses.std(), \"time_sec\": elapsed}\n",
    "    print(f\"k={k}: RMSE mean={rmses.mean():.4f}, std={rmses.std():.4f}, time={elapsed:.1f}s\")"
   ]
  },
  {
   "cell_type": "code",
   "execution_count": 5,
   "id": "de89d648",
   "metadata": {},
   "outputs": [
    {
     "name": "stdout",
     "output_type": "stream",
     "text": [
      "Selected k = 5\n"
     ]
    }
   ],
   "source": [
    "best_k = min(cv_summary, key=lambda kk: cv_summary[kk][\"mean_rmse\"])\n",
    "print(f\"Selected k = {best_k}\")"
   ]
  },
  {
   "cell_type": "code",
   "execution_count": 6,
   "id": "d944e706",
   "metadata": {},
   "outputs": [
    {
     "name": "stdout",
     "output_type": "stream",
     "text": [
      "Fitting 5 folds for each of 96 candidates, totalling 480 fits\n"
     ]
    },
    {
     "name": "stdout",
     "output_type": "stream",
     "text": [
      "GridSearchCV finished in 34.6s\n"
     ]
    }
   ],
   "source": [
    "param_grid = {\n",
    "    \"n_estimators\": [50, 100, 150, 200],\n",
    "    \"max_depth\": [None,9, 10, 20],\n",
    "    \"max_features\": [\"sqrt\", 0.8],\n",
    "    \"min_samples_leaf\": [1, 2, 4]\n",
    "}\n",
    "kf = KFold(n_splits=best_k, shuffle=True, random_state=42)\n",
    "rfr = RandomForestRegressor(random_state=42, n_jobs=-1)\n",
    "gscv = GridSearchCV(rfr, param_grid, scoring=\"neg_mean_squared_error\", cv=kf, n_jobs=-1, verbose=1)\n",
    "start = time.time()\n",
    "gscv.fit(X, y)\n",
    "print(f\"GridSearchCV finished in {time.time() - start:.1f}s\")\n"
   ]
  },
  {
   "cell_type": "code",
   "execution_count": 7,
   "id": "0c57dfba",
   "metadata": {},
   "outputs": [
    {
     "name": "stdout",
     "output_type": "stream",
     "text": [
      "Best params: {'max_depth': 10, 'max_features': 0.8, 'min_samples_leaf': 4, 'n_estimators': 200}, CV RMSE: 2.2078\n"
     ]
    }
   ],
   "source": [
    "best_params = gscv.best_params_\n",
    "best_cv_rmse = np.sqrt(-gscv.best_score_)\n",
    "print(f\"Best params: {best_params}, CV RMSE: {best_cv_rmse:.4f}\")"
   ]
  },
  {
   "cell_type": "code",
   "execution_count": 8,
   "id": "65250acb",
   "metadata": {},
   "outputs": [
    {
     "name": "stdout",
     "output_type": "stream",
     "text": [
      "Final RandomForest trained on full dataset\n"
     ]
    }
   ],
   "source": [
    "final_rf = RandomForestRegressor(**best_params, random_state=42, n_jobs=-1)\n",
    "final_rf.fit(X, y)\n",
    "print(\"Final RandomForest trained on full dataset\")"
   ]
  },
  {
   "cell_type": "code",
   "execution_count": 9,
   "id": "be7a86d3",
   "metadata": {},
   "outputs": [
    {
     "name": "stdout",
     "output_type": "stream",
     "text": [
      "First 10 rows: actual vs predicted\n"
     ]
    },
    {
     "data": {
      "text/html": [
       "<div>\n",
       "<style scoped>\n",
       "    .dataframe tbody tr th:only-of-type {\n",
       "        vertical-align: middle;\n",
       "    }\n",
       "\n",
       "    .dataframe tbody tr th {\n",
       "        vertical-align: top;\n",
       "    }\n",
       "\n",
       "    .dataframe thead th {\n",
       "        text-align: right;\n",
       "    }\n",
       "</style>\n",
       "<table border=\"1\" class=\"dataframe\">\n",
       "  <thead>\n",
       "    <tr style=\"text-align: right;\">\n",
       "      <th></th>\n",
       "      <th>Id</th>\n",
       "      <th>Actual RI</th>\n",
       "      <th>Predicted RI</th>\n",
       "      <th>Absolute Error</th>\n",
       "    </tr>\n",
       "  </thead>\n",
       "  <tbody>\n",
       "    <tr>\n",
       "      <th>0</th>\n",
       "      <td>9255</td>\n",
       "      <td>36</td>\n",
       "      <td>34.379082</td>\n",
       "      <td>1.620918</td>\n",
       "    </tr>\n",
       "    <tr>\n",
       "      <th>1</th>\n",
       "      <td>1562</td>\n",
       "      <td>25</td>\n",
       "      <td>25.310262</td>\n",
       "      <td>0.310262</td>\n",
       "    </tr>\n",
       "    <tr>\n",
       "      <th>2</th>\n",
       "      <td>1671</td>\n",
       "      <td>59</td>\n",
       "      <td>58.718747</td>\n",
       "      <td>0.281253</td>\n",
       "    </tr>\n",
       "    <tr>\n",
       "      <th>3</th>\n",
       "      <td>6088</td>\n",
       "      <td>22</td>\n",
       "      <td>21.173292</td>\n",
       "      <td>0.826708</td>\n",
       "    </tr>\n",
       "    <tr>\n",
       "      <th>4</th>\n",
       "      <td>6670</td>\n",
       "      <td>40</td>\n",
       "      <td>39.719329</td>\n",
       "      <td>0.280671</td>\n",
       "    </tr>\n",
       "    <tr>\n",
       "      <th>5</th>\n",
       "      <td>5934</td>\n",
       "      <td>33</td>\n",
       "      <td>34.993699</td>\n",
       "      <td>1.993699</td>\n",
       "    </tr>\n",
       "    <tr>\n",
       "      <th>6</th>\n",
       "      <td>8830</td>\n",
       "      <td>30</td>\n",
       "      <td>29.556383</td>\n",
       "      <td>0.443617</td>\n",
       "    </tr>\n",
       "    <tr>\n",
       "      <th>7</th>\n",
       "      <td>7946</td>\n",
       "      <td>89</td>\n",
       "      <td>89.722107</td>\n",
       "      <td>0.722107</td>\n",
       "    </tr>\n",
       "    <tr>\n",
       "      <th>8</th>\n",
       "      <td>3509</td>\n",
       "      <td>46</td>\n",
       "      <td>44.013512</td>\n",
       "      <td>1.986488</td>\n",
       "    </tr>\n",
       "    <tr>\n",
       "      <th>9</th>\n",
       "      <td>2003</td>\n",
       "      <td>83</td>\n",
       "      <td>79.975595</td>\n",
       "      <td>3.024405</td>\n",
       "    </tr>\n",
       "  </tbody>\n",
       "</table>\n",
       "</div>"
      ],
      "text/plain": [
       "     Id  Actual RI  Predicted RI  Absolute Error\n",
       "0  9255         36     34.379082        1.620918\n",
       "1  1562         25     25.310262        0.310262\n",
       "2  1671         59     58.718747        0.281253\n",
       "3  6088         22     21.173292        0.826708\n",
       "4  6670         40     39.719329        0.280671\n",
       "5  5934         33     34.993699        1.993699\n",
       "6  8830         30     29.556383        0.443617\n",
       "7  7946         89     89.722107        0.722107\n",
       "8  3509         46     44.013512        1.986488\n",
       "9  2003         83     79.975595        3.024405"
      ]
     },
     "execution_count": 9,
     "metadata": {},
     "output_type": "execute_result"
    }
   ],
   "source": [
    "preds=final_rf.predict(X)\n",
    "results_df=pd.DataFrame({\n",
    "    'Id':df['Id'],\n",
    "    'Actual RI':y,\n",
    "    'Predicted RI':preds,\n",
    "    'Absolute Error':abs(preds-y)\n",
    "})\n",
    "print(\"First 10 rows: actual vs predicted\")\n",
    "results_df.head(10)\n"
   ]
  },
  {
   "cell_type": "code",
   "execution_count": 10,
   "id": "18158500",
   "metadata": {},
   "outputs": [
    {
     "name": "stdout",
     "output_type": "stream",
     "text": [
      "RMSE for the data ->1.7826636684768726\n",
      "MSE for the data ->3.177889754907421\n"
     ]
    }
   ],
   "source": [
    "mse_full = mean_squared_error(results_df['Actual RI'], results_df['Predicted RI'])\n",
    "rmse_full = np.sqrt(mse_full)\n",
    "print(f\"RMSE for the data ->{rmse_full}\")\n",
    "print(f\"MSE for the data ->{mse_full}\")"
   ]
  },
  {
   "cell_type": "code",
   "execution_count": 11,
   "id": "12d6111e",
   "metadata": {},
   "outputs": [
    {
     "name": "stdout",
     "output_type": "stream",
     "text": [
      "Saved random_forest_final.joblib\n"
     ]
    }
   ],
   "source": [
    "joblib.dump({\"model\": final_rf}, \"random_forest_final.joblib\", compress=3)\n",
    "print(\"Saved random_forest_final.joblib\")"
   ]
  },
  {
   "cell_type": "code",
   "execution_count": null,
   "id": "51f30760",
   "metadata": {},
   "outputs": [],
   "source": []
  },
  {
   "cell_type": "code",
   "execution_count": null,
   "id": "b939ebd0",
   "metadata": {},
   "outputs": [],
   "source": []
  }
 ],
 "metadata": {
  "kernelspec": {
   "display_name": "Python 3",
   "language": "python",
   "name": "python3"
  },
  "language_info": {
   "codemirror_mode": {
    "name": "ipython",
    "version": 3
   },
   "file_extension": ".py",
   "mimetype": "text/x-python",
   "name": "python",
   "nbconvert_exporter": "python",
   "pygments_lexer": "ipython3",
   "version": "3.11.5"
  }
 },
 "nbformat": 4,
 "nbformat_minor": 5
}
